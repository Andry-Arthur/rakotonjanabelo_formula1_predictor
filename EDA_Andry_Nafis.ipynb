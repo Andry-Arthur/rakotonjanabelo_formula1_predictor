{
 "cells": [
  {
   "cell_type": "markdown",
   "id": "155d18cf",
   "metadata": {},
   "source": [
    "### F1 future talent predictor\n",
    "**by Andry Rakotonjanabelo and Md Nafisul Hasan Sami**\n",
    "\n",
    "Exploratory Data Analysis notebook."
   ]
  }
 ],
 "metadata": {
  "language_info": {
   "name": "python"
  }
 },
 "nbformat": 4,
 "nbformat_minor": 5
}
