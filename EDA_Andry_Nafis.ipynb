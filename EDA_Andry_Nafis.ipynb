{
 "cells": [
  {
   "cell_type": "markdown",
   "id": "155d18cf",
   "metadata": {},
   "source": [
    "### F1 future talent predictor\n",
    "**by Andry Rakotonjanabelo and Md Nafisul Hasan Sami**\n",
    "\n",
    "Exploratory Data Analysis notebook."
   ]
  },
  {
   "cell_type": "code",
   "execution_count": 2,
   "id": "baa1b668",
   "metadata": {},
   "outputs": [
    {
     "name": "stdout",
     "output_type": "stream",
     "text": [
      "Collecting kagglehubNote: you may need to restart the kernel to use updated packages.\n",
      "\n",
      "  Obtaining dependency information for kagglehub from https://files.pythonhosted.org/packages/87/4b/b5023905576b960483207ab6506694101c594c18577e5a36a7189823015e/kagglehub-0.3.11-py3-none-any.whl.metadata\n",
      "  Downloading kagglehub-0.3.11-py3-none-any.whl.metadata (32 kB)\n",
      "Requirement already satisfied: packaging in c:\\users\\andry arthur\\anaconda3\\lib\\site-packages (from kagglehub) (23.1)\n",
      "Requirement already satisfied: pyyaml in c:\\users\\andry arthur\\anaconda3\\lib\\site-packages (from kagglehub) (6.0)\n",
      "Requirement already satisfied: requests in c:\\users\\andry arthur\\anaconda3\\lib\\site-packages (from kagglehub) (2.31.0)\n",
      "Requirement already satisfied: tqdm in c:\\users\\andry arthur\\anaconda3\\lib\\site-packages (from kagglehub) (4.65.0)\n",
      "Requirement already satisfied: charset-normalizer<4,>=2 in c:\\users\\andry arthur\\anaconda3\\lib\\site-packages (from requests->kagglehub) (2.0.4)\n",
      "Requirement already satisfied: idna<4,>=2.5 in c:\\users\\andry arthur\\anaconda3\\lib\\site-packages (from requests->kagglehub) (3.4)\n",
      "Requirement already satisfied: urllib3<3,>=1.21.1 in c:\\users\\andry arthur\\anaconda3\\lib\\site-packages (from requests->kagglehub) (1.26.16)\n",
      "Requirement already satisfied: certifi>=2017.4.17 in c:\\users\\andry arthur\\anaconda3\\lib\\site-packages (from requests->kagglehub) (2023.7.22)\n",
      "Requirement already satisfied: colorama in c:\\users\\andry arthur\\anaconda3\\lib\\site-packages (from tqdm->kagglehub) (0.4.6)\n",
      "Downloading kagglehub-0.3.11-py3-none-any.whl (63 kB)\n",
      "   ---------------------------------------- 0.0/63.4 kB ? eta -:--:--\n",
      "   ------------ --------------------------- 20.5/63.4 kB ? eta -:--:--\n",
      "   ---------------------------------------- 63.4/63.4 kB 1.1 MB/s eta 0:00:00\n",
      "Installing collected packages: kagglehub\n",
      "Successfully installed kagglehub-0.3.11\n"
     ]
    }
   ],
   "source": [
    "pip install kagglehub"
   ]
  },
  {
   "cell_type": "code",
   "execution_count": 51,
   "id": "cfb3d100",
   "metadata": {},
   "outputs": [],
   "source": [
    "import pandas as pd\n",
    "import numpy as np\n",
    "import os\n",
    "import matplotlib.pyplot as plt\n",
    "import seaborn as sns"
   ]
  },
  {
   "cell_type": "code",
   "execution_count": 3,
   "id": "9baf40d1",
   "metadata": {},
   "outputs": [
    {
     "name": "stdout",
     "output_type": "stream",
     "text": [
      "Downloading from https://www.kaggle.com/api/v1/datasets/download/alarchemn/formula-2-dataset?dataset_version_number=4...\n"
     ]
    },
    {
     "name": "stderr",
     "output_type": "stream",
     "text": [
      "100%|██████████| 157k/157k [00:00<00:00, 2.34MB/s]"
     ]
    },
    {
     "name": "stdout",
     "output_type": "stream",
     "text": [
      "Extracting files...\n",
      "Path to dataset files: C:\\Users\\Andry Arthur\\.cache\\kagglehub\\datasets\\alarchemn\\formula-2-dataset\\versions\\4\n"
     ]
    },
    {
     "name": "stderr",
     "output_type": "stream",
     "text": [
      "\n"
     ]
    }
   ],
   "source": [
    "import kagglehub\n",
    "\n",
    "# Download latest version\n",
    "path = kagglehub.dataset_download(\"alarchemn/formula-2-dataset\")\n",
    "\n",
    "print(\"Path to dataset files:\", path)"
   ]
  },
  {
   "cell_type": "code",
   "execution_count": 8,
   "id": "93f91607",
   "metadata": {},
   "outputs": [
    {
     "name": "stdout",
     "output_type": "stream",
     "text": [
      "Files in dataset directory: ['Feature-Race.csv', 'Free-Practice.csv', 'Qualifying-Session.csv', 'Sprint-Race-2.csv', 'Sprint-Race.csv']\n",
      "   LAPS       TIME     GAP   INT.      KPH      BEST   LAP  POS  CAR  \\\n",
      "0    40  53:32.606       -      -  193.406  1:18.735  30.0  1.0    2   \n",
      "1    40  53:35.569   2.963  2.963  193.228  1:18.602   9.0  2.0    8   \n",
      "2    40  53:43.034  10.428  7.465  192.780  1:18.625  12.0  3.0    4   \n",
      "3    40  53:43.392  10.786  0.358  192.759  1:18.573  10.0  4.0   19   \n",
      "4    40  53:45.326  12.720  1.934  192.643  1:18.209  34.0  5.0    5   \n",
      "\n",
      "        PILOT NAME            TEAM    CIRCUIT          TYPE     ROUND  \\\n",
      "0    N. Matsushita          Carlin  Spielberg  Feature Race  Round 6    \n",
      "1       L. Ghiotto    UNI-Virtuosi  Spielberg  Feature Race  Round 6    \n",
      "2      N. de Vries  ART Grand Prix  Spielberg  Feature Race  Round 6    \n",
      "3        A. Hubert       BWT Arden  Spielberg  Feature Race  Round 6    \n",
      "4  S. Sette Câmara            DAMS  Spielberg  Feature Race  Round 6    \n",
      "\n",
      "         DATE  \n",
      "0  2019-06-30  \n",
      "1  2019-06-30  \n",
      "2  2019-06-30  \n",
      "3  2019-06-30  \n",
      "4  2019-06-30  \n"
     ]
    }
   ],
   "source": [
    "import os\n",
    "import pandas as pd\n",
    "\n",
    "# List files in the downloaded dataset directory\n",
    "files = os.listdir(path)\n",
    "print(\"Files in dataset directory:\", files)\n",
    "\n",
    "# Assuming the dataset is a CSV file, load it into a DataFrame\n",
    "csv_file = [f for f in files if f.endswith('.csv')][0]  # Get the first CSV file\n",
    "csv_path = os.path.join(path, csv_file)\n",
    "\n",
    "# Create a DataFrame\n",
    "formula_2_df = pd.read_csv(csv_path)\n",
    "\n",
    "# Display the first few rows of the DataFrame\n",
    "print(formula_2_df.head())"
   ]
  },
  {
   "cell_type": "code",
   "execution_count": 9,
   "id": "464dfbd8",
   "metadata": {},
   "outputs": [
    {
     "name": "stdout",
     "output_type": "stream",
     "text": [
      "<class 'pandas.core.frame.DataFrame'>\n",
      "RangeIndex: 1420 entries, 0 to 1419\n",
      "Data columns (total 15 columns):\n",
      " #   Column      Non-Null Count  Dtype  \n",
      "---  ------      --------------  -----  \n",
      " 0   LAPS        1420 non-null   int64  \n",
      " 1   TIME        1420 non-null   object \n",
      " 2   GAP         1420 non-null   object \n",
      " 3   INT.        1420 non-null   object \n",
      " 4   KPH         1420 non-null   float64\n",
      " 5   BEST        1420 non-null   object \n",
      " 6   LAP         1420 non-null   float64\n",
      " 7   POS         1420 non-null   float64\n",
      " 8   CAR         1420 non-null   int64  \n",
      " 9   PILOT NAME  1420 non-null   object \n",
      " 10  TEAM        1420 non-null   object \n",
      " 11  CIRCUIT     1420 non-null   object \n",
      " 12  TYPE        1420 non-null   object \n",
      " 13  ROUND       1420 non-null   object \n",
      " 14  DATE        1420 non-null   object \n",
      "dtypes: float64(3), int64(2), object(10)\n",
      "memory usage: 166.5+ KB\n"
     ]
    }
   ],
   "source": [
    "formula_2_df.info()"
   ]
  },
  {
   "cell_type": "code",
   "execution_count": 10,
   "id": "da3b1bdd",
   "metadata": {},
   "outputs": [
    {
     "data": {
      "application/vnd.microsoft.datawrangler.viewer.v0+json": {
       "columns": [
        {
         "name": "index",
         "rawType": "int64",
         "type": "integer"
        },
        {
         "name": "LAPS",
         "rawType": "int64",
         "type": "integer"
        },
        {
         "name": "TIME",
         "rawType": "object",
         "type": "string"
        },
        {
         "name": "GAP",
         "rawType": "object",
         "type": "string"
        },
        {
         "name": "INT.",
         "rawType": "object",
         "type": "string"
        },
        {
         "name": "KPH",
         "rawType": "float64",
         "type": "float"
        },
        {
         "name": "BEST",
         "rawType": "object",
         "type": "string"
        },
        {
         "name": "LAP",
         "rawType": "float64",
         "type": "float"
        },
        {
         "name": "POS",
         "rawType": "float64",
         "type": "float"
        },
        {
         "name": "CAR",
         "rawType": "int64",
         "type": "integer"
        },
        {
         "name": "PILOT NAME",
         "rawType": "object",
         "type": "string"
        },
        {
         "name": "TEAM",
         "rawType": "object",
         "type": "string"
        },
        {
         "name": "CIRCUIT",
         "rawType": "object",
         "type": "string"
        },
        {
         "name": "TYPE",
         "rawType": "object",
         "type": "string"
        },
        {
         "name": "ROUND",
         "rawType": "object",
         "type": "string"
        },
        {
         "name": "DATE",
         "rawType": "object",
         "type": "string"
        }
       ],
       "conversionMethod": "pd.DataFrame",
       "ref": "d422ae3b-a59c-46c2-b850-08786f35906b",
       "rows": [
        [
         "0",
         "40",
         "53:32.606",
         "-",
         "-",
         "193.406",
         "1:18.735",
         "30.0",
         "1.0",
         "2",
         "N. Matsushita",
         "Carlin",
         "Spielberg",
         "Feature Race",
         "Round 6 ",
         "2019-06-30"
        ],
        [
         "1",
         "40",
         "53:35.569",
         "2.963",
         "2.963",
         "193.228",
         "1:18.602",
         "9.0",
         "2.0",
         "8",
         "L. Ghiotto",
         "UNI-Virtuosi",
         "Spielberg",
         "Feature Race",
         "Round 6 ",
         "2019-06-30"
        ],
        [
         "2",
         "40",
         "53:43.034",
         "10.428",
         "7.465",
         "192.78",
         "1:18.625",
         "12.0",
         "3.0",
         "4",
         "N. de Vries",
         "ART Grand Prix",
         "Spielberg",
         "Feature Race",
         "Round 6 ",
         "2019-06-30"
        ],
        [
         "3",
         "40",
         "53:43.392",
         "10.786",
         "0.358",
         "192.759",
         "1:18.573",
         "10.0",
         "4.0",
         "19",
         "A. Hubert",
         "BWT Arden",
         "Spielberg",
         "Feature Race",
         "Round 6 ",
         "2019-06-30"
        ],
        [
         "4",
         "40",
         "53:45.326",
         "12.720",
         "1.934",
         "192.643",
         "1:18.209",
         "34.0",
         "5.0",
         "5",
         "S. Sette Câmara",
         "DAMS",
         "Spielberg",
         "Feature Race",
         "Round 6 ",
         "2019-06-30"
        ]
       ],
       "shape": {
        "columns": 15,
        "rows": 5
       }
      },
      "text/html": [
       "<div>\n",
       "<style scoped>\n",
       "    .dataframe tbody tr th:only-of-type {\n",
       "        vertical-align: middle;\n",
       "    }\n",
       "\n",
       "    .dataframe tbody tr th {\n",
       "        vertical-align: top;\n",
       "    }\n",
       "\n",
       "    .dataframe thead th {\n",
       "        text-align: right;\n",
       "    }\n",
       "</style>\n",
       "<table border=\"1\" class=\"dataframe\">\n",
       "  <thead>\n",
       "    <tr style=\"text-align: right;\">\n",
       "      <th></th>\n",
       "      <th>LAPS</th>\n",
       "      <th>TIME</th>\n",
       "      <th>GAP</th>\n",
       "      <th>INT.</th>\n",
       "      <th>KPH</th>\n",
       "      <th>BEST</th>\n",
       "      <th>LAP</th>\n",
       "      <th>POS</th>\n",
       "      <th>CAR</th>\n",
       "      <th>PILOT NAME</th>\n",
       "      <th>TEAM</th>\n",
       "      <th>CIRCUIT</th>\n",
       "      <th>TYPE</th>\n",
       "      <th>ROUND</th>\n",
       "      <th>DATE</th>\n",
       "    </tr>\n",
       "  </thead>\n",
       "  <tbody>\n",
       "    <tr>\n",
       "      <th>0</th>\n",
       "      <td>40</td>\n",
       "      <td>53:32.606</td>\n",
       "      <td>-</td>\n",
       "      <td>-</td>\n",
       "      <td>193.406</td>\n",
       "      <td>1:18.735</td>\n",
       "      <td>30.0</td>\n",
       "      <td>1.0</td>\n",
       "      <td>2</td>\n",
       "      <td>N. Matsushita</td>\n",
       "      <td>Carlin</td>\n",
       "      <td>Spielberg</td>\n",
       "      <td>Feature Race</td>\n",
       "      <td>Round 6</td>\n",
       "      <td>2019-06-30</td>\n",
       "    </tr>\n",
       "    <tr>\n",
       "      <th>1</th>\n",
       "      <td>40</td>\n",
       "      <td>53:35.569</td>\n",
       "      <td>2.963</td>\n",
       "      <td>2.963</td>\n",
       "      <td>193.228</td>\n",
       "      <td>1:18.602</td>\n",
       "      <td>9.0</td>\n",
       "      <td>2.0</td>\n",
       "      <td>8</td>\n",
       "      <td>L. Ghiotto</td>\n",
       "      <td>UNI-Virtuosi</td>\n",
       "      <td>Spielberg</td>\n",
       "      <td>Feature Race</td>\n",
       "      <td>Round 6</td>\n",
       "      <td>2019-06-30</td>\n",
       "    </tr>\n",
       "    <tr>\n",
       "      <th>2</th>\n",
       "      <td>40</td>\n",
       "      <td>53:43.034</td>\n",
       "      <td>10.428</td>\n",
       "      <td>7.465</td>\n",
       "      <td>192.780</td>\n",
       "      <td>1:18.625</td>\n",
       "      <td>12.0</td>\n",
       "      <td>3.0</td>\n",
       "      <td>4</td>\n",
       "      <td>N. de Vries</td>\n",
       "      <td>ART Grand Prix</td>\n",
       "      <td>Spielberg</td>\n",
       "      <td>Feature Race</td>\n",
       "      <td>Round 6</td>\n",
       "      <td>2019-06-30</td>\n",
       "    </tr>\n",
       "    <tr>\n",
       "      <th>3</th>\n",
       "      <td>40</td>\n",
       "      <td>53:43.392</td>\n",
       "      <td>10.786</td>\n",
       "      <td>0.358</td>\n",
       "      <td>192.759</td>\n",
       "      <td>1:18.573</td>\n",
       "      <td>10.0</td>\n",
       "      <td>4.0</td>\n",
       "      <td>19</td>\n",
       "      <td>A. Hubert</td>\n",
       "      <td>BWT Arden</td>\n",
       "      <td>Spielberg</td>\n",
       "      <td>Feature Race</td>\n",
       "      <td>Round 6</td>\n",
       "      <td>2019-06-30</td>\n",
       "    </tr>\n",
       "    <tr>\n",
       "      <th>4</th>\n",
       "      <td>40</td>\n",
       "      <td>53:45.326</td>\n",
       "      <td>12.720</td>\n",
       "      <td>1.934</td>\n",
       "      <td>192.643</td>\n",
       "      <td>1:18.209</td>\n",
       "      <td>34.0</td>\n",
       "      <td>5.0</td>\n",
       "      <td>5</td>\n",
       "      <td>S. Sette Câmara</td>\n",
       "      <td>DAMS</td>\n",
       "      <td>Spielberg</td>\n",
       "      <td>Feature Race</td>\n",
       "      <td>Round 6</td>\n",
       "      <td>2019-06-30</td>\n",
       "    </tr>\n",
       "  </tbody>\n",
       "</table>\n",
       "</div>"
      ],
      "text/plain": [
       "   LAPS       TIME     GAP   INT.      KPH      BEST   LAP  POS  CAR  \\\n",
       "0    40  53:32.606       -      -  193.406  1:18.735  30.0  1.0    2   \n",
       "1    40  53:35.569   2.963  2.963  193.228  1:18.602   9.0  2.0    8   \n",
       "2    40  53:43.034  10.428  7.465  192.780  1:18.625  12.0  3.0    4   \n",
       "3    40  53:43.392  10.786  0.358  192.759  1:18.573  10.0  4.0   19   \n",
       "4    40  53:45.326  12.720  1.934  192.643  1:18.209  34.0  5.0    5   \n",
       "\n",
       "        PILOT NAME            TEAM    CIRCUIT          TYPE     ROUND  \\\n",
       "0    N. Matsushita          Carlin  Spielberg  Feature Race  Round 6    \n",
       "1       L. Ghiotto    UNI-Virtuosi  Spielberg  Feature Race  Round 6    \n",
       "2      N. de Vries  ART Grand Prix  Spielberg  Feature Race  Round 6    \n",
       "3        A. Hubert       BWT Arden  Spielberg  Feature Race  Round 6    \n",
       "4  S. Sette Câmara            DAMS  Spielberg  Feature Race  Round 6    \n",
       "\n",
       "         DATE  \n",
       "0  2019-06-30  \n",
       "1  2019-06-30  \n",
       "2  2019-06-30  \n",
       "3  2019-06-30  \n",
       "4  2019-06-30  "
      ]
     },
     "execution_count": 10,
     "metadata": {},
     "output_type": "execute_result"
    }
   ],
   "source": [
    "formula_2_df.describe()\n",
    "formula_2_df.head()"
   ]
  },
  {
   "cell_type": "code",
   "execution_count": 15,
   "id": "99c410f5",
   "metadata": {},
   "outputs": [],
   "source": [
    "from relbench.datasets import get_dataset\n",
    "rel_f1_dataset = get_dataset(\"rel-f1\")\n"
   ]
  },
  {
   "cell_type": "code",
   "execution_count": 18,
   "id": "96aa5e82",
   "metadata": {},
   "outputs": [
    {
     "name": "stdout",
     "output_type": "stream",
     "text": [
      "Help on F1Dataset in module relbench.datasets.f1 object:\n",
      "\n",
      "class F1Dataset(relbench.base.dataset.Dataset)\n",
      " |  F1Dataset(cache_dir: Optional[str] = None) -> None\n",
      " |  \n",
      " |  Method resolution order:\n",
      " |      F1Dataset\n",
      " |      relbench.base.dataset.Dataset\n",
      " |      builtins.object\n",
      " |  \n",
      " |  Methods defined here:\n",
      " |  \n",
      " |  make_db(self) -> relbench.base.database.Database\n",
      " |      Process the raw files into a database.\n",
      " |  \n",
      " |  ----------------------------------------------------------------------\n",
      " |  Data and other attributes defined here:\n",
      " |  \n",
      " |  __annotations__ = {}\n",
      " |  \n",
      " |  test_timestamp = Timestamp('2010-01-01 00:00:00')\n",
      " |  \n",
      " |  val_timestamp = Timestamp('2005-01-01 00:00:00')\n",
      " |  \n",
      " |  ----------------------------------------------------------------------\n",
      " |  Methods inherited from relbench.base.dataset.Dataset:\n",
      " |  \n",
      " |  __init__(self, cache_dir: Optional[str] = None) -> None\n",
      " |      Create a dataset object.\n",
      " |      \n",
      " |      Args:\n",
      " |          cache_dir: A directory for caching the database object. If specified,\n",
      " |              we will either process and cache the file (if not available) or use\n",
      " |              the cached file. If None, we will not use cached file and re-process\n",
      " |              everything from scratch without saving the cache.\n",
      " |  \n",
      " |  __repr__(self) -> str\n",
      " |      Return repr(self).\n",
      " |  \n",
      " |  get_db(self, upto_test_timestamp=True) -> relbench.base.database.Database\n",
      " |      Return the database object.\n",
      " |      \n",
      " |      The returned database object is cached in memory.\n",
      " |      \n",
      " |      Args:\n",
      " |          upto_test_timestamp: If True, only return rows upto test_timestamp.\n",
      " |      \n",
      " |      Returns:\n",
      " |          Database: The database object.\n",
      " |      \n",
      " |      `upto_test_timestamp` is True by default to prevent test leakage.\n",
      " |  \n",
      " |  validate_and_correct_db(self, db)\n",
      " |      Validate and correct input db in-place.\n",
      " |      \n",
      " |      Removing rows after test_timestamp can result in dangling foreign keys.\n",
      " |  \n",
      " |  ----------------------------------------------------------------------\n",
      " |  Data descriptors inherited from relbench.base.dataset.Dataset:\n",
      " |  \n",
      " |  __dict__\n",
      " |      dictionary for instance variables (if defined)\n",
      " |  \n",
      " |  __weakref__\n",
      " |      list of weak references to the object (if defined)\n",
      "\n"
     ]
    }
   ],
   "source": [
    "type(rel_f1_dataset)\n",
    "help(rel_f1_dataset)"
   ]
  },
  {
   "cell_type": "code",
   "execution_count": 33,
   "id": "45dc3cfc",
   "metadata": {},
   "outputs": [
    {
     "name": "stdout",
     "output_type": "stream",
     "text": [
      "<class 'relbench.base.database.Database'>\n"
     ]
    }
   ],
   "source": [
    "# Process the raw files into a database\n",
    "db = rel_f1_dataset.make_db()\n",
    "\n",
    "# Check the type of the database\n",
    "print(type(db))"
   ]
  },
  {
   "cell_type": "code",
   "execution_count": 34,
   "id": "b0f5ee5b",
   "metadata": {},
   "outputs": [
    {
     "name": "stdout",
     "output_type": "stream",
     "text": [
      "Database()\n"
     ]
    }
   ],
   "source": [
    "print(db)"
   ]
  },
  {
   "cell_type": "code",
   "execution_count": 35,
   "id": "83f99dbd",
   "metadata": {},
   "outputs": [],
   "source": [
    "# Example: If the database has a 'data' attribute\n",
    "if hasattr(db, 'data'):\n",
    "    rel_f1_df = pd.DataFrame(db.data)\n",
    "    print(rel_f1_df.head())"
   ]
  },
  {
   "cell_type": "code",
   "execution_count": 37,
   "id": "0ed99a75",
   "metadata": {},
   "outputs": [
    {
     "name": "stdout",
     "output_type": "stream",
     "text": [
      "['__class__', '__delattr__', '__dict__', '__dir__', '__doc__', '__eq__', '__format__', '__ge__', '__getattribute__', '__getstate__', '__gt__', '__hash__', '__init__', '__init_subclass__', '__le__', '__lt__', '__module__', '__ne__', '__new__', '__reduce__', '__reduce_ex__', '__repr__', '__setattr__', '__sizeof__', '__str__', '__subclasshook__', '__weakref__', 'from_', 'load', 'max_timestamp', 'min_timestamp', 'reindex_pkeys_and_fkeys', 'save', 'table_dict', 'upto']\n",
      "db.data does not exist\n"
     ]
    }
   ],
   "source": [
    "print(dir(db))\n",
    "\n",
    "# Check if 'data' exists\n",
    "if hasattr(db, 'data'):\n",
    "    print(\"db.data exists\")\n",
    "else:\n",
    "    print(\"db.data does not exist\")"
   ]
  },
  {
   "cell_type": "code",
   "execution_count": 38,
   "id": "c633bd09",
   "metadata": {},
   "outputs": [
    {
     "name": "stdout",
     "output_type": "stream",
     "text": [
      "<class 'dict'>\n",
      "dict_keys(['races', 'circuits', 'drivers', 'results', 'standings', 'constructors', 'constructor_results', 'constructor_standings', 'qualifying'])\n"
     ]
    }
   ],
   "source": [
    "# Inspect the table_dict attribute\n",
    "print(type(db.table_dict))\n",
    "print(db.table_dict.keys())  # List the keys (table names) in the dictionary"
   ]
  },
  {
   "cell_type": "code",
   "execution_count": 41,
   "id": "6b6de149",
   "metadata": {},
   "outputs": [
    {
     "name": "stdout",
     "output_type": "stream",
     "text": [
      "   driverId   driverRef code  forename     surname        dob nationality\n",
      "0         1    hamilton  HAM     Lewis    Hamilton 1985-01-07     British\n",
      "1         2    heidfeld  HEI      Nick    Heidfeld 1977-05-10      German\n",
      "2         3     rosberg  ROS      Nico     Rosberg 1985-06-27      German\n",
      "3         4      alonso  ALO  Fernando      Alonso 1981-07-29     Spanish\n",
      "4         5  kovalainen  KOV    Heikki  Kovalainen 1981-10-19     Finnish\n"
     ]
    }
   ],
   "source": [
    "# Access the 'drivers' table\n",
    "drivers_table = db.table_dict['drivers']\n",
    "\n",
    "# Check if the table has a 'df' attribute\n",
    "if hasattr(drivers_table, 'df'):\n",
    "    drivers_df = drivers_table.df  # Extract the DataFrame\n",
    "    print(drivers_df.head())\n",
    "else:\n",
    "    print(\"The 'drivers' table does not have a 'df' attribute.\")"
   ]
  },
  {
   "cell_type": "code",
   "execution_count": 42,
   "id": "2941d718",
   "metadata": {},
   "outputs": [
    {
     "name": "stdout",
     "output_type": "stream",
     "text": [
      "Table: races\n",
      "   raceId  year  round  circuitId                   name                date  \\\n",
      "0       1  2009      1          1  Australian Grand Prix 2009-03-29 06:00:00   \n",
      "1       2  2009      2          2   Malaysian Grand Prix 2009-04-05 09:00:00   \n",
      "2       3  2009      3         17     Chinese Grand Prix 2009-04-19 07:00:00   \n",
      "3       4  2009      4          3     Bahrain Grand Prix 2009-04-26 12:00:00   \n",
      "4       5  2009      5          4     Spanish Grand Prix 2009-05-10 12:00:00   \n",
      "\n",
      "       time  \n",
      "0  06:00:00  \n",
      "1  09:00:00  \n",
      "2  07:00:00  \n",
      "3  12:00:00  \n",
      "4  12:00:00  \n",
      "Table: circuits\n",
      "   circuitId   circuitRef                            name      location  \\\n",
      "0          1  albert_park  Albert Park Grand Prix Circuit     Melbourne   \n",
      "1          2       sepang    Sepang International Circuit  Kuala Lumpur   \n",
      "2          3      bahrain   Bahrain International Circuit        Sakhir   \n",
      "3          4    catalunya  Circuit de Barcelona-Catalunya      Montmeló   \n",
      "4          5     istanbul                   Istanbul Park      Istanbul   \n",
      "\n",
      "     country       lat        lng    alt  \n",
      "0  Australia -37.84970  144.96800   10.0  \n",
      "1   Malaysia   2.76083  101.73800   18.0  \n",
      "2    Bahrain  26.03250   50.51060    7.0  \n",
      "3      Spain  41.57000    2.26111  109.0  \n",
      "4     Turkey  40.95170   29.40500  130.0  \n",
      "Table: drivers\n",
      "   driverId   driverRef code  forename     surname        dob nationality\n",
      "0         1    hamilton  HAM     Lewis    Hamilton 1985-01-07     British\n",
      "1         2    heidfeld  HEI      Nick    Heidfeld 1977-05-10      German\n",
      "2         3     rosberg  ROS      Nico     Rosberg 1985-06-27      German\n",
      "3         4      alonso  ALO  Fernando      Alonso 1981-07-29     Spanish\n",
      "4         5  kovalainen  KOV    Heikki  Kovalainen 1981-10-19     Finnish\n",
      "Table: results\n",
      "   resultId  raceId  driverId  constructorId  number  grid  position  \\\n",
      "0         1      18         1              1    22.0     1       1.0   \n",
      "1         2      18         2              2     3.0     5       2.0   \n",
      "2         3      18         3              3     7.0     7       3.0   \n",
      "3         4      18         4              4     5.0    11       4.0   \n",
      "4         5      18         5              1    23.0     3       5.0   \n",
      "\n",
      "   positionOrder  points  laps  milliseconds  fastestLap  rank  statusId  \\\n",
      "0              1    10.0    58     5690616.0        39.0   2.0         1   \n",
      "1              2     8.0    58     5696094.0        41.0   3.0         1   \n",
      "2              3     6.0    58     5698779.0        41.0   5.0         1   \n",
      "3              4     5.0    58     5707797.0        58.0   7.0         1   \n",
      "4              5     4.0    58     5708630.0        43.0   1.0         1   \n",
      "\n",
      "                 date  \n",
      "0 2008-03-16 04:30:00  \n",
      "1 2008-03-16 04:30:00  \n",
      "2 2008-03-16 04:30:00  \n",
      "3 2008-03-16 04:30:00  \n",
      "4 2008-03-16 04:30:00  \n",
      "Table: standings\n",
      "   driverStandingsId  raceId  driverId  points  position  wins  \\\n",
      "0                  1      18         1    10.0         1     1   \n",
      "1                  2      18         2     8.0         2     0   \n",
      "2                  3      18         3     6.0         3     0   \n",
      "3                  4      18         4     5.0         4     0   \n",
      "4                  5      18         5     4.0         5     0   \n",
      "\n",
      "                 date  \n",
      "0 2008-03-16 04:30:00  \n",
      "1 2008-03-16 04:30:00  \n",
      "2 2008-03-16 04:30:00  \n",
      "3 2008-03-16 04:30:00  \n",
      "4 2008-03-16 04:30:00  \n",
      "Table: constructors\n",
      "   constructorId constructorRef        name nationality\n",
      "0              1        mclaren     McLaren     British\n",
      "1              2     bmw_sauber  BMW Sauber      German\n",
      "2              3       williams    Williams     British\n",
      "3              4        renault     Renault      French\n",
      "4              5     toro_rosso  Toro Rosso     Italian\n",
      "Table: constructor_results\n",
      "   constructorResultsId  raceId  constructorId  points                date\n",
      "0                     1      18              1    14.0 2008-03-16 04:30:00\n",
      "1                     2      18              2     8.0 2008-03-16 04:30:00\n",
      "2                     3      18              3     9.0 2008-03-16 04:30:00\n",
      "3                     4      18              4     5.0 2008-03-16 04:30:00\n",
      "4                     5      18              5     2.0 2008-03-16 04:30:00\n",
      "Table: constructor_standings\n",
      "   constructorStandingsId  raceId  constructorId  points  position  wins  \\\n",
      "0                       1      18              1    14.0         1     1   \n",
      "1                       2      18              2     8.0         3     0   \n",
      "2                       3      18              3     9.0         2     0   \n",
      "3                       4      18              4     5.0         4     0   \n",
      "4                       5      18              5     2.0         5     0   \n",
      "\n",
      "                 date  \n",
      "0 2008-03-16 04:30:00  \n",
      "1 2008-03-16 04:30:00  \n",
      "2 2008-03-16 04:30:00  \n",
      "3 2008-03-16 04:30:00  \n",
      "4 2008-03-16 04:30:00  \n",
      "Table: qualifying\n",
      "   qualifyId  raceId  driverId  constructorId  number  position  \\\n",
      "0          1      18         1              1      22         1   \n",
      "1          2      18         9              2       4         2   \n",
      "2          3      18         5              1      23         3   \n",
      "3          4      18        13              6       2         4   \n",
      "4          5      18         2              2       3         5   \n",
      "\n",
      "                 date  \n",
      "0 2008-03-15 04:30:00  \n",
      "1 2008-03-15 04:30:00  \n",
      "2 2008-03-15 04:30:00  \n",
      "3 2008-03-15 04:30:00  \n",
      "4 2008-03-15 04:30:00  \n"
     ]
    }
   ],
   "source": [
    "# Iterate through all tables in table_dict\n",
    "for table_name, table_obj in db.table_dict.items():\n",
    "    if hasattr(table_obj, 'df'):\n",
    "        print(f\"Table: {table_name}\")\n",
    "        table_df = table_obj.df  # Extract the DataFrame\n",
    "        print(table_df.head())\n",
    "    else:\n",
    "        print(f\"Table {table_name} does not have a 'df' attribute.\")"
   ]
  },
  {
   "cell_type": "code",
   "execution_count": 43,
   "id": "8b62c58d",
   "metadata": {},
   "outputs": [
    {
     "name": "stdout",
     "output_type": "stream",
     "text": [
      "   driverId   driverRef code  forename     surname        dob nationality\n",
      "0         1    hamilton  HAM     Lewis    Hamilton 1985-01-07     British\n",
      "1         2    heidfeld  HEI      Nick    Heidfeld 1977-05-10      German\n",
      "2         3     rosberg  ROS      Nico     Rosberg 1985-06-27      German\n",
      "3         4      alonso  ALO  Fernando      Alonso 1981-07-29     Spanish\n",
      "4         5  kovalainen  KOV    Heikki  Kovalainen 1981-10-19     Finnish\n"
     ]
    }
   ],
   "source": [
    "# Access the 'drivers' table\n",
    "if 'drivers' in db.table_dict:\n",
    "    drivers_table = db.table_dict['drivers']\n",
    "    \n",
    "    # Extract the DataFrame from the 'drivers' table\n",
    "    if hasattr(drivers_table, 'df'):\n",
    "        drivers_df = drivers_table.df\n",
    "        print(drivers_df.head())\n",
    "    else:\n",
    "        print(\"The 'drivers' table does not have a 'df' attribute.\")\n",
    "else:\n",
    "    print(\"'drivers' table not found in table_dict.\")"
   ]
  },
  {
   "cell_type": "code",
   "execution_count": 44,
   "id": "658a4857",
   "metadata": {},
   "outputs": [],
   "source": [
    "f3_tables = pd.read_html('https://motorsportstats.com/series/fia-formula-3-championship')"
   ]
  },
  {
   "cell_type": "code",
   "execution_count": 45,
   "id": "b33df3e7",
   "metadata": {},
   "outputs": [
    {
     "data": {
      "text/plain": [
       "[             Team          Chassis           Engine     Car #  \\\n",
       " 0      AIX Racing  Dallara F3 2025  Mecachrome V634  26272828   \n",
       " 1  ART Grand Prix  Dallara F3 2025  Mecachrome V634       789   \n",
       " 2   Campos Racing  Dallara F3 2025  Mecachrome V634    101112   \n",
       " 3  DAMS Lucas Oil  Dallara F3 2025  Mecachrome V634    293031   \n",
       " 4      Hitech TGR  Dallara F3 2025  Mecachrome V634    141516   \n",
       " 5   MP Motorsport  Dallara F3 2025  Mecachrome V634    171819   \n",
       " 6    Prema Racing  Dallara F3 2025  Mecachrome V634         1   \n",
       " \n",
       "                                               Driver  \n",
       " 0  Francisco Javier SagreraNicola MarinangeliFred...  \n",
       " 1      Laurens Van HoepenTuukka TaponenJames Wharton  \n",
       " 2     Mari BoyaTasanapol InthraphuvasakNikola Tsolov  \n",
       " 3          Nicola LacorteMatías ZagazetaChristian Ho  \n",
       " 4  Martinius StenshorneJosh DufekWing Lam Gerrard...  \n",
       " 5        Tim TramnitzBruno del PinoAlessandro Giusti  \n",
       " 6                                      Brando Badoer  ,\n",
       "                       Driver                Entrant  RS  W  PD  PP  FL  BR  \\\n",
       " 0          Alessandro Giusti          MP Motorsport   4  0   0   0   0   7   \n",
       " 1              Brando Badoer           Prema Racing   4  0   0   0   0  19   \n",
       " 2             Bruno del Pino          MP Motorsport   4  0   0   0   0   9   \n",
       " 3              Callum Voisin       Rodin Motorsport   4  0   1   0   0   2   \n",
       " 4               Charlie Wurz                Trident   4  0   0   0   0   6   \n",
       " 5               Christian Ho         DAMS Lucas Oil   4  0   0   0   0   8   \n",
       " 6   Francisco Javier Sagrera             AIX Racing   4  0   0   0   0  15   \n",
       " 7             Freddie Slater             AIX Racing   2  0   1   0   1   2   \n",
       " 8      Ivan Franco Domingues  Van Amersfoort Racing   4  0   0   0   0  19   \n",
       " 9              James Wharton         ART Grand Prix   4  0   0   0   0  13   \n",
       " 10                Josh Dufek             Hitech TGR   4  0   0   1   0  11   \n",
       " 11        Laurens Van Hoepen         ART Grand Prix   4  0   0   0   0  12   \n",
       " 12               Louis Sharp       Rodin Motorsport   4  0   0   0   0  14   \n",
       " 13                 Mari Boya          Campos Racing   4  0   0   0   0   8   \n",
       " 14      Martinius Stenshorne             Hitech TGR   4  0   1   0   1   2   \n",
       " 15           Matías Zagazeta         DAMS Lucas Oil   4  0   0   0   0   5   \n",
       " 16            Nicola Lacorte         DAMS Lucas Oil   4  0   0   0   0  17   \n",
       " 17        Nicola Marinangeli             AIX Racing   4  0   0   0   0  20   \n",
       " 18             Nikita Bedrin             AIX Racing   2  0   0   0   0   4   \n",
       " 19             Nikola Tsolov          Campos Racing   4  1   1   0   0   1   \n",
       " \n",
       "     BG     AF     AG  DNF   P    WC  \n",
       " 0    4  12.50  10.25    0  10  15th  \n",
       " 1   16  22.00  22.00    0   0  30th  \n",
       " 2    5  17.00  18.00    1   2  19th  \n",
       " 3    2   5.00  12.25    1  27   3rd  \n",
       " 4    3   8.67   6.50    1  10  14th  \n",
       " 5    4  11.00  14.00    1   4  17th  \n",
       " 6   15  20.67  17.50    1   0  26th  \n",
       " 7    3   2.00   6.50    1  10  12th  \n",
       " 8   23  19.67  25.50    1   0  29th  \n",
       " 9   21  20.67  23.25    1   0  24th  \n",
       " 10   1  18.33   9.75    1   0  22nd  \n",
       " 11  17  13.33  21.00    1   0  23rd  \n",
       " 12  15  17.25  16.50    0   0  25th  \n",
       " 13  20  13.25  21.25    0   4  18th  \n",
       " 14   2   8.25   6.50    0  20   6th  \n",
       " 15   2  18.25  17.00    0   6  16th  \n",
       " 16  23  20.33  26.75    1   0  28th  \n",
       " 17  27  24.00  28.00    1   0  31st  \n",
       " 18   4   5.00   6.50    0  17   9th  \n",
       " 19   5   4.67  11.25    1  23   5th  ]"
      ]
     },
     "execution_count": 45,
     "metadata": {},
     "output_type": "execute_result"
    }
   ],
   "source": [
    "f3_tables"
   ]
  },
  {
   "cell_type": "code",
   "execution_count": null,
   "id": "53fdbb3d",
   "metadata": {},
   "outputs": [
    {
     "name": "stdout",
     "output_type": "stream",
     "text": [
      "Help on list object:\n",
      "\n",
      "class list(object)\n",
      " |  list(iterable=(), /)\n",
      " |  \n",
      " |  Built-in mutable sequence.\n",
      " |  \n",
      " |  If no argument is given, the constructor creates a new empty list.\n",
      " |  The argument must be an iterable if specified.\n",
      " |  \n",
      " |  Methods defined here:\n",
      " |  \n",
      " |  __add__(self, value, /)\n",
      " |      Return self+value.\n",
      " |  \n",
      " |  __contains__(self, key, /)\n",
      " |      Return key in self.\n",
      " |  \n",
      " |  __delitem__(self, key, /)\n",
      " |      Delete self[key].\n",
      " |  \n",
      " |  __eq__(self, value, /)\n",
      " |      Return self==value.\n",
      " |  \n",
      " |  __ge__(self, value, /)\n",
      " |      Return self>=value.\n",
      " |  \n",
      " |  __getattribute__(self, name, /)\n",
      " |      Return getattr(self, name).\n",
      " |  \n",
      " |  __getitem__(...)\n",
      " |      x.__getitem__(y) <==> x[y]\n",
      " |  \n",
      " |  __gt__(self, value, /)\n",
      " |      Return self>value.\n",
      " |  \n",
      " |  __iadd__(self, value, /)\n",
      " |      Implement self+=value.\n",
      " |  \n",
      " |  __imul__(self, value, /)\n",
      " |      Implement self*=value.\n",
      " |  \n",
      " |  __init__(self, /, *args, **kwargs)\n",
      " |      Initialize self.  See help(type(self)) for accurate signature.\n",
      " |  \n",
      " |  __iter__(self, /)\n",
      " |      Implement iter(self).\n",
      " |  \n",
      " |  __le__(self, value, /)\n",
      " |      Return self<=value.\n",
      " |  \n",
      " |  __len__(self, /)\n",
      " |      Return len(self).\n",
      " |  \n",
      " |  __lt__(self, value, /)\n",
      " |      Return self<value.\n",
      " |  \n",
      " |  __mul__(self, value, /)\n",
      " |      Return self*value.\n",
      " |  \n",
      " |  __ne__(self, value, /)\n",
      " |      Return self!=value.\n",
      " |  \n",
      " |  __repr__(self, /)\n",
      " |      Return repr(self).\n",
      " |  \n",
      " |  __reversed__(self, /)\n",
      " |      Return a reverse iterator over the list.\n",
      " |  \n",
      " |  __rmul__(self, value, /)\n",
      " |      Return value*self.\n",
      " |  \n",
      " |  __setitem__(self, key, value, /)\n",
      " |      Set self[key] to value.\n",
      " |  \n",
      " |  __sizeof__(self, /)\n",
      " |      Return the size of the list in memory, in bytes.\n",
      " |  \n",
      " |  append(self, object, /)\n",
      " |      Append object to the end of the list.\n",
      " |  \n",
      " |  clear(self, /)\n",
      " |      Remove all items from list.\n",
      " |  \n",
      " |  copy(self, /)\n",
      " |      Return a shallow copy of the list.\n",
      " |  \n",
      " |  count(self, value, /)\n",
      " |      Return number of occurrences of value.\n",
      " |  \n",
      " |  extend(self, iterable, /)\n",
      " |      Extend list by appending elements from the iterable.\n",
      " |  \n",
      " |  index(self, value, start=0, stop=9223372036854775807, /)\n",
      " |      Return first index of value.\n",
      " |      \n",
      " |      Raises ValueError if the value is not present.\n",
      " |  \n",
      " |  insert(self, index, object, /)\n",
      " |      Insert object before index.\n",
      " |  \n",
      " |  pop(self, index=-1, /)\n",
      " |      Remove and return item at index (default last).\n",
      " |      \n",
      " |      Raises IndexError if list is empty or index is out of range.\n",
      " |  \n",
      " |  remove(self, value, /)\n",
      " |      Remove first occurrence of value.\n",
      " |      \n",
      " |      Raises ValueError if the value is not present.\n",
      " |  \n",
      " |  reverse(self, /)\n",
      " |      Reverse *IN PLACE*.\n",
      " |  \n",
      " |  sort(self, /, *, key=None, reverse=False)\n",
      " |      Sort the list in ascending order and return None.\n",
      " |      \n",
      " |      The sort is in-place (i.e. the list itself is modified) and stable (i.e. the\n",
      " |      order of two equal elements is maintained).\n",
      " |      \n",
      " |      If a key function is given, apply it once to each list item and sort them,\n",
      " |      ascending or descending, according to their function values.\n",
      " |      \n",
      " |      The reverse flag can be set to sort in descending order.\n",
      " |  \n",
      " |  ----------------------------------------------------------------------\n",
      " |  Class methods defined here:\n",
      " |  \n",
      " |  __class_getitem__(...) from builtins.type\n",
      " |      See PEP 585\n",
      " |  \n",
      " |  ----------------------------------------------------------------------\n",
      " |  Static methods defined here:\n",
      " |  \n",
      " |  __new__(*args, **kwargs) from builtins.type\n",
      " |      Create and return a new object.  See help(type) for accurate signature.\n",
      " |  \n",
      " |  ----------------------------------------------------------------------\n",
      " |  Data and other attributes defined here:\n",
      " |  \n",
      " |  __hash__ = None\n",
      "\n"
     ]
    }
   ],
   "source": []
  },
  {
   "cell_type": "code",
   "execution_count": 47,
   "id": "d121a599",
   "metadata": {},
   "outputs": [
    {
     "name": "stdout",
     "output_type": "stream",
     "text": [
      "First Table:\n",
      "             Team          Chassis           Engine     Car #  \\\n",
      "0      AIX Racing  Dallara F3 2025  Mecachrome V634  26272828   \n",
      "1  ART Grand Prix  Dallara F3 2025  Mecachrome V634       789   \n",
      "2   Campos Racing  Dallara F3 2025  Mecachrome V634    101112   \n",
      "3  DAMS Lucas Oil  Dallara F3 2025  Mecachrome V634    293031   \n",
      "4      Hitech TGR  Dallara F3 2025  Mecachrome V634    141516   \n",
      "\n",
      "                                              Driver  \n",
      "0  Francisco Javier SagreraNicola MarinangeliFred...  \n",
      "1      Laurens Van HoepenTuukka TaponenJames Wharton  \n",
      "2     Mari BoyaTasanapol InthraphuvasakNikola Tsolov  \n",
      "3          Nicola LacorteMatías ZagazetaChristian Ho  \n",
      "4  Martinius StenshorneJosh DufekWing Lam Gerrard...  \n",
      "\n",
      "Second Table:\n",
      "              Driver           Entrant  RS  W  PD  PP  FL  BR  BG     AF  \\\n",
      "0  Alessandro Giusti     MP Motorsport   4  0   0   0   0   7   4  12.50   \n",
      "1      Brando Badoer      Prema Racing   4  0   0   0   0  19  16  22.00   \n",
      "2     Bruno del Pino     MP Motorsport   4  0   0   0   0   9   5  17.00   \n",
      "3      Callum Voisin  Rodin Motorsport   4  0   1   0   0   2   2   5.00   \n",
      "4       Charlie Wurz           Trident   4  0   0   0   0   6   3   8.67   \n",
      "\n",
      "      AG  DNF   P    WC  \n",
      "0  10.25    0  10  15th  \n",
      "1  22.00    0   0  30th  \n",
      "2  18.00    1   2  19th  \n",
      "3  12.25    1  27   3rd  \n",
      "4   6.50    1  10  14th  \n"
     ]
    }
   ],
   "source": [
    "f3_table_1 = f3_tables[0]  # First table\n",
    "f3_table_2 = f3_tables[1]  # Second table\n",
    "\n",
    "# Convert them into DataFrames\n",
    "df_f3_table_1 = pd.DataFrame(f3_table_1)\n",
    "df_f3_table_2 = pd.DataFrame(f3_table_2)\n",
    "\n",
    "# Display the first few rows of each DataFrame\n",
    "print(\"First Table:\")\n",
    "print(df_f3_table_1.head())\n",
    "\n",
    "print(\"\\nSecond Table:\")\n",
    "print(df_f3_table_2.head())"
   ]
  },
  {
   "cell_type": "code",
   "execution_count": 49,
   "id": "7bbbc98f",
   "metadata": {},
   "outputs": [
    {
     "data": {
      "application/vnd.microsoft.datawrangler.viewer.v0+json": {
       "columns": [
        {
         "name": "index",
         "rawType": "int64",
         "type": "integer"
        },
        {
         "name": "Team",
         "rawType": "object",
         "type": "string"
        },
        {
         "name": "Chassis",
         "rawType": "object",
         "type": "string"
        },
        {
         "name": "Engine",
         "rawType": "object",
         "type": "string"
        },
        {
         "name": "Car #",
         "rawType": "int64",
         "type": "integer"
        },
        {
         "name": "Driver",
         "rawType": "object",
         "type": "string"
        }
       ],
       "conversionMethod": "pd.DataFrame",
       "ref": "1a77eafc-69f8-4cf8-8bb8-da21d7223124",
       "rows": [
        [
         "0",
         "AIX Racing",
         "Dallara F3 2025",
         "Mecachrome V634",
         "26272828",
         "Francisco Javier SagreraNicola MarinangeliFreddie SlaterNikita Bedrin"
        ],
        [
         "1",
         "ART Grand Prix",
         "Dallara F3 2025",
         "Mecachrome V634",
         "789",
         "Laurens Van HoepenTuukka TaponenJames Wharton"
        ],
        [
         "2",
         "Campos Racing",
         "Dallara F3 2025",
         "Mecachrome V634",
         "101112",
         "Mari BoyaTasanapol InthraphuvasakNikola Tsolov"
        ],
        [
         "3",
         "DAMS Lucas Oil",
         "Dallara F3 2025",
         "Mecachrome V634",
         "293031",
         "Nicola LacorteMatías ZagazetaChristian Ho"
        ],
        [
         "4",
         "Hitech TGR",
         "Dallara F3 2025",
         "Mecachrome V634",
         "141516",
         "Martinius StenshorneJosh DufekWing Lam Gerrard Xie"
        ]
       ],
       "shape": {
        "columns": 5,
        "rows": 5
       }
      },
      "text/html": [
       "<div>\n",
       "<style scoped>\n",
       "    .dataframe tbody tr th:only-of-type {\n",
       "        vertical-align: middle;\n",
       "    }\n",
       "\n",
       "    .dataframe tbody tr th {\n",
       "        vertical-align: top;\n",
       "    }\n",
       "\n",
       "    .dataframe thead th {\n",
       "        text-align: right;\n",
       "    }\n",
       "</style>\n",
       "<table border=\"1\" class=\"dataframe\">\n",
       "  <thead>\n",
       "    <tr style=\"text-align: right;\">\n",
       "      <th></th>\n",
       "      <th>Team</th>\n",
       "      <th>Chassis</th>\n",
       "      <th>Engine</th>\n",
       "      <th>Car #</th>\n",
       "      <th>Driver</th>\n",
       "    </tr>\n",
       "  </thead>\n",
       "  <tbody>\n",
       "    <tr>\n",
       "      <th>0</th>\n",
       "      <td>AIX Racing</td>\n",
       "      <td>Dallara F3 2025</td>\n",
       "      <td>Mecachrome V634</td>\n",
       "      <td>26272828</td>\n",
       "      <td>Francisco Javier SagreraNicola MarinangeliFred...</td>\n",
       "    </tr>\n",
       "    <tr>\n",
       "      <th>1</th>\n",
       "      <td>ART Grand Prix</td>\n",
       "      <td>Dallara F3 2025</td>\n",
       "      <td>Mecachrome V634</td>\n",
       "      <td>789</td>\n",
       "      <td>Laurens Van HoepenTuukka TaponenJames Wharton</td>\n",
       "    </tr>\n",
       "    <tr>\n",
       "      <th>2</th>\n",
       "      <td>Campos Racing</td>\n",
       "      <td>Dallara F3 2025</td>\n",
       "      <td>Mecachrome V634</td>\n",
       "      <td>101112</td>\n",
       "      <td>Mari BoyaTasanapol InthraphuvasakNikola Tsolov</td>\n",
       "    </tr>\n",
       "    <tr>\n",
       "      <th>3</th>\n",
       "      <td>DAMS Lucas Oil</td>\n",
       "      <td>Dallara F3 2025</td>\n",
       "      <td>Mecachrome V634</td>\n",
       "      <td>293031</td>\n",
       "      <td>Nicola LacorteMatías ZagazetaChristian Ho</td>\n",
       "    </tr>\n",
       "    <tr>\n",
       "      <th>4</th>\n",
       "      <td>Hitech TGR</td>\n",
       "      <td>Dallara F3 2025</td>\n",
       "      <td>Mecachrome V634</td>\n",
       "      <td>141516</td>\n",
       "      <td>Martinius StenshorneJosh DufekWing Lam Gerrard...</td>\n",
       "    </tr>\n",
       "  </tbody>\n",
       "</table>\n",
       "</div>"
      ],
      "text/plain": [
       "             Team          Chassis           Engine     Car #  \\\n",
       "0      AIX Racing  Dallara F3 2025  Mecachrome V634  26272828   \n",
       "1  ART Grand Prix  Dallara F3 2025  Mecachrome V634       789   \n",
       "2   Campos Racing  Dallara F3 2025  Mecachrome V634    101112   \n",
       "3  DAMS Lucas Oil  Dallara F3 2025  Mecachrome V634    293031   \n",
       "4      Hitech TGR  Dallara F3 2025  Mecachrome V634    141516   \n",
       "\n",
       "                                              Driver  \n",
       "0  Francisco Javier SagreraNicola MarinangeliFred...  \n",
       "1      Laurens Van HoepenTuukka TaponenJames Wharton  \n",
       "2     Mari BoyaTasanapol InthraphuvasakNikola Tsolov  \n",
       "3          Nicola LacorteMatías ZagazetaChristian Ho  \n",
       "4  Martinius StenshorneJosh DufekWing Lam Gerrard...  "
      ]
     },
     "execution_count": 49,
     "metadata": {},
     "output_type": "execute_result"
    }
   ],
   "source": [
    "f3_table_1.head()"
   ]
  },
  {
   "cell_type": "code",
   "execution_count": 50,
   "id": "3b750863",
   "metadata": {},
   "outputs": [
    {
     "data": {
      "application/vnd.microsoft.datawrangler.viewer.v0+json": {
       "columns": [
        {
         "name": "index",
         "rawType": "int64",
         "type": "integer"
        },
        {
         "name": "Driver",
         "rawType": "object",
         "type": "string"
        },
        {
         "name": "Entrant",
         "rawType": "object",
         "type": "string"
        },
        {
         "name": "RS",
         "rawType": "int64",
         "type": "integer"
        },
        {
         "name": "W",
         "rawType": "int64",
         "type": "integer"
        },
        {
         "name": "PD",
         "rawType": "int64",
         "type": "integer"
        },
        {
         "name": "PP",
         "rawType": "int64",
         "type": "integer"
        },
        {
         "name": "FL",
         "rawType": "int64",
         "type": "integer"
        },
        {
         "name": "BR",
         "rawType": "int64",
         "type": "integer"
        },
        {
         "name": "BG",
         "rawType": "int64",
         "type": "integer"
        },
        {
         "name": "AF",
         "rawType": "float64",
         "type": "float"
        },
        {
         "name": "AG",
         "rawType": "float64",
         "type": "float"
        },
        {
         "name": "DNF",
         "rawType": "int64",
         "type": "integer"
        },
        {
         "name": "P",
         "rawType": "int64",
         "type": "integer"
        },
        {
         "name": "WC",
         "rawType": "object",
         "type": "string"
        }
       ],
       "conversionMethod": "pd.DataFrame",
       "ref": "96a8db0f-eb5e-4e87-b3db-0dc88b6e9b0a",
       "rows": [
        [
         "0",
         "Alessandro Giusti",
         "MP Motorsport",
         "4",
         "0",
         "0",
         "0",
         "0",
         "7",
         "4",
         "12.5",
         "10.25",
         "0",
         "10",
         "15th"
        ],
        [
         "1",
         "Brando Badoer",
         "Prema Racing",
         "4",
         "0",
         "0",
         "0",
         "0",
         "19",
         "16",
         "22.0",
         "22.0",
         "0",
         "0",
         "30th"
        ],
        [
         "2",
         "Bruno del Pino",
         "MP Motorsport",
         "4",
         "0",
         "0",
         "0",
         "0",
         "9",
         "5",
         "17.0",
         "18.0",
         "1",
         "2",
         "19th"
        ],
        [
         "3",
         "Callum Voisin",
         "Rodin Motorsport",
         "4",
         "0",
         "1",
         "0",
         "0",
         "2",
         "2",
         "5.0",
         "12.25",
         "1",
         "27",
         "3rd"
        ],
        [
         "4",
         "Charlie Wurz",
         "Trident",
         "4",
         "0",
         "0",
         "0",
         "0",
         "6",
         "3",
         "8.67",
         "6.5",
         "1",
         "10",
         "14th"
        ]
       ],
       "shape": {
        "columns": 14,
        "rows": 5
       }
      },
      "text/html": [
       "<div>\n",
       "<style scoped>\n",
       "    .dataframe tbody tr th:only-of-type {\n",
       "        vertical-align: middle;\n",
       "    }\n",
       "\n",
       "    .dataframe tbody tr th {\n",
       "        vertical-align: top;\n",
       "    }\n",
       "\n",
       "    .dataframe thead th {\n",
       "        text-align: right;\n",
       "    }\n",
       "</style>\n",
       "<table border=\"1\" class=\"dataframe\">\n",
       "  <thead>\n",
       "    <tr style=\"text-align: right;\">\n",
       "      <th></th>\n",
       "      <th>Driver</th>\n",
       "      <th>Entrant</th>\n",
       "      <th>RS</th>\n",
       "      <th>W</th>\n",
       "      <th>PD</th>\n",
       "      <th>PP</th>\n",
       "      <th>FL</th>\n",
       "      <th>BR</th>\n",
       "      <th>BG</th>\n",
       "      <th>AF</th>\n",
       "      <th>AG</th>\n",
       "      <th>DNF</th>\n",
       "      <th>P</th>\n",
       "      <th>WC</th>\n",
       "    </tr>\n",
       "  </thead>\n",
       "  <tbody>\n",
       "    <tr>\n",
       "      <th>0</th>\n",
       "      <td>Alessandro Giusti</td>\n",
       "      <td>MP Motorsport</td>\n",
       "      <td>4</td>\n",
       "      <td>0</td>\n",
       "      <td>0</td>\n",
       "      <td>0</td>\n",
       "      <td>0</td>\n",
       "      <td>7</td>\n",
       "      <td>4</td>\n",
       "      <td>12.50</td>\n",
       "      <td>10.25</td>\n",
       "      <td>0</td>\n",
       "      <td>10</td>\n",
       "      <td>15th</td>\n",
       "    </tr>\n",
       "    <tr>\n",
       "      <th>1</th>\n",
       "      <td>Brando Badoer</td>\n",
       "      <td>Prema Racing</td>\n",
       "      <td>4</td>\n",
       "      <td>0</td>\n",
       "      <td>0</td>\n",
       "      <td>0</td>\n",
       "      <td>0</td>\n",
       "      <td>19</td>\n",
       "      <td>16</td>\n",
       "      <td>22.00</td>\n",
       "      <td>22.00</td>\n",
       "      <td>0</td>\n",
       "      <td>0</td>\n",
       "      <td>30th</td>\n",
       "    </tr>\n",
       "    <tr>\n",
       "      <th>2</th>\n",
       "      <td>Bruno del Pino</td>\n",
       "      <td>MP Motorsport</td>\n",
       "      <td>4</td>\n",
       "      <td>0</td>\n",
       "      <td>0</td>\n",
       "      <td>0</td>\n",
       "      <td>0</td>\n",
       "      <td>9</td>\n",
       "      <td>5</td>\n",
       "      <td>17.00</td>\n",
       "      <td>18.00</td>\n",
       "      <td>1</td>\n",
       "      <td>2</td>\n",
       "      <td>19th</td>\n",
       "    </tr>\n",
       "    <tr>\n",
       "      <th>3</th>\n",
       "      <td>Callum Voisin</td>\n",
       "      <td>Rodin Motorsport</td>\n",
       "      <td>4</td>\n",
       "      <td>0</td>\n",
       "      <td>1</td>\n",
       "      <td>0</td>\n",
       "      <td>0</td>\n",
       "      <td>2</td>\n",
       "      <td>2</td>\n",
       "      <td>5.00</td>\n",
       "      <td>12.25</td>\n",
       "      <td>1</td>\n",
       "      <td>27</td>\n",
       "      <td>3rd</td>\n",
       "    </tr>\n",
       "    <tr>\n",
       "      <th>4</th>\n",
       "      <td>Charlie Wurz</td>\n",
       "      <td>Trident</td>\n",
       "      <td>4</td>\n",
       "      <td>0</td>\n",
       "      <td>0</td>\n",
       "      <td>0</td>\n",
       "      <td>0</td>\n",
       "      <td>6</td>\n",
       "      <td>3</td>\n",
       "      <td>8.67</td>\n",
       "      <td>6.50</td>\n",
       "      <td>1</td>\n",
       "      <td>10</td>\n",
       "      <td>14th</td>\n",
       "    </tr>\n",
       "  </tbody>\n",
       "</table>\n",
       "</div>"
      ],
      "text/plain": [
       "              Driver           Entrant  RS  W  PD  PP  FL  BR  BG     AF  \\\n",
       "0  Alessandro Giusti     MP Motorsport   4  0   0   0   0   7   4  12.50   \n",
       "1      Brando Badoer      Prema Racing   4  0   0   0   0  19  16  22.00   \n",
       "2     Bruno del Pino     MP Motorsport   4  0   0   0   0   9   5  17.00   \n",
       "3      Callum Voisin  Rodin Motorsport   4  0   1   0   0   2   2   5.00   \n",
       "4       Charlie Wurz           Trident   4  0   0   0   0   6   3   8.67   \n",
       "\n",
       "      AG  DNF   P    WC  \n",
       "0  10.25    0  10  15th  \n",
       "1  22.00    0   0  30th  \n",
       "2  18.00    1   2  19th  \n",
       "3  12.25    1  27   3rd  \n",
       "4   6.50    1  10  14th  "
      ]
     },
     "execution_count": 50,
     "metadata": {},
     "output_type": "execute_result"
    }
   ],
   "source": [
    "f3_table_2.head()"
   ]
  },
  {
   "cell_type": "code",
   "execution_count": 55,
   "id": "1d8dd117",
   "metadata": {},
   "outputs": [
    {
     "data": {
      "image/png": "[encoded data removed]",
      "text/plain": [
       "<Figure size 1200x600 with 1 Axes>"
      ]
     },
     "metadata": {},
     "output_type": "display_data"
    }
   ],
   "source": [
    "# Example: Compare total wins for F2 and F3 drivers\n",
    "f2_wins = formula_2_df.groupby('PILOT NAME')['POS'].apply(lambda x: (x == 1).sum()).reset_index()\n",
    "f2_wins.columns = ['Driver', 'F2 Wins']\n",
    "\n",
    "f3_wins = df_f3_table_2[['Driver', 'W']].copy()\n",
    "f3_wins.columns = ['Driver', 'F3 Wins']\n",
    "\n",
    "# Merge F2 and F3 data\n",
    "driver_wins = pd.merge(f2_wins, f3_wins, on='Driver', how='outer').fillna(0)\n",
    "\n",
    "# Plot\n",
    "plt.figure(figsize=(12, 6))\n",
    "sns.barplot(data=driver_wins.melt(id_vars='Driver', var_name='Series', value_name='Wins'),\n",
    "            x='Driver', y='Wins', hue='Series')\n",
    "plt.xticks(rotation=90)\n",
    "plt.title('Driver Wins Comparison: F2 vs F3')\n",
    "plt.ylabel('Number of Wins')\n",
    "plt.xlabel('Driver')\n",
    "plt.legend(title='Series')\n",
    "plt.tight_layout()\n",
    "plt.show()"
   ]
  },
  {
   "cell_type": "code",
   "execution_count": 56,
   "id": "ea37b1bc",
   "metadata": {},
   "outputs": [
    {
     "data": {
      "image/png": "[encoded data removed]",
      "text/plain": [
       "<Figure size 1200x600 with 1 Axes>"
      ]
     },
     "metadata": {},
     "output_type": "display_data"
    }
   ],
   "source": [
    "# Example: Average position by team in F2\n",
    "f2_team_performance = formula_2_df.groupby('TEAM')['POS'].mean().reset_index()\n",
    "f2_team_performance.columns = ['Team', 'Avg F2 Position']\n",
    "\n",
    "# Example: Average points by team in F3\n",
    "f3_team_performance = df_f3_table_2.groupby('Entrant')['BR'].mean().reset_index()\n",
    "f3_team_performance.columns = ['Team', 'Avg F3 Points']\n",
    "\n",
    "# Merge F2 and F3 team performance\n",
    "team_performance = pd.merge(f2_team_performance, f3_team_performance, on='Team', how='outer').fillna(0)\n",
    "\n",
    "# Plot\n",
    "plt.figure(figsize=(12, 6))\n",
    "sns.scatterplot(data=team_performance, x='Avg F2 Position', y='Avg F3 Points', hue='Team', s=100)\n",
    "plt.title('Team Performance: F2 vs F3')\n",
    "plt.xlabel('Average F2 Position (Lower is Better)')\n",
    "plt.ylabel('Average F3 Points')\n",
    "plt.legend(title='Team', bbox_to_anchor=(1.05, 1), loc='upper left')\n",
    "plt.tight_layout()\n",
    "plt.show()"
   ]
  },
  {
   "cell_type": "code",
   "execution_count": null,
   "id": "0de85b59",
   "metadata": {},
   "outputs": [],
   "source": []
  }
 ],
 "metadata": {
  "kernelspec": {
   "display_name": "base",
   "language": "python",
   "name": "python3"
  },
  "language_info": {
   "codemirror_mode": {
    "name": "ipython",
    "version": 3
   },
   "file_extension": ".py",
   "mimetype": "text/x-python",
   "name": "python",
   "nbconvert_exporter": "python",
   "pygments_lexer": "ipython3",
   "version": "3.11.5"
  }
 },
 "nbformat": 4,
 "nbformat_minor": 5
}
